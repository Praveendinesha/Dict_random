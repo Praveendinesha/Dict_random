{
  "nbformat": 4,
  "nbformat_minor": 0,
  "metadata": {
    "colab": {
      "provenance": []
    },
    "kernelspec": {
      "name": "python3",
      "display_name": "Python 3"
    },
    "language_info": {
      "name": "python"
    }
  },
  "cells": [
    {
      "cell_type": "markdown",
      "source": [
        "# **DICTIONARY**"
      ],
      "metadata": {
        "id": "7EPz6op9N0FW"
      }
    },
    {
      "cell_type": "code",
      "source": [
        "'''Convert two lists into a dictionary'''\n",
        "\n",
        "keys = ['Ten', 'Twenty', 'Thirty']\n",
        "values = [10, 20, 30]\n",
        "\n",
        "print({keys[0]:values[0],keys[1]:values[1],keys[2]:values[2]})\n",
        "\n",
        "#(or)\n",
        "\n",
        "a = dict(zip(keys, values))\n",
        "print(a)\n",
        "\n",
        "#(or)\n",
        "\n",
        "a={}\n",
        "for i in range(len(keys)):\n",
        "  a.update({keys[i]:values[i]})\n",
        "print(a)\n",
        "\n",
        "'''update() method adds the key-value pairs from one into another iterable datatype. If a key already exists in one, the corresponding value is updated;'''"
      ],
      "metadata": {
        "colab": {
          "base_uri": "https://localhost:8080/",
          "height": 88
        },
        "id": "vlMcaGT4LCuO",
        "outputId": "54ecfbfb-efd2-4f00-fefd-af43e44eacef"
      },
      "execution_count": null,
      "outputs": [
        {
          "output_type": "stream",
          "name": "stdout",
          "text": [
            "{'Ten': 10, 'Twenty': 20, 'Thirty': 30}\n",
            "{'Ten': 10, 'Twenty': 20, 'Thirty': 30}\n",
            "{'Ten': 10, 'Twenty': 20, 'Thirty': 30}\n"
          ]
        },
        {
          "output_type": "execute_result",
          "data": {
            "text/plain": [
              "'update() method adds the key-value pairs from one into another iterable datatype. If a key already exists in one, the corresponding value is updated;'"
            ],
            "application/vnd.google.colaboratory.intrinsic+json": {
              "type": "string"
            }
          },
          "metadata": {},
          "execution_count": 17
        }
      ]
    },
    {
      "cell_type": "code",
      "source": [
        "# Z I P ()\n",
        "'''The zip() function in Python is used to combine two or more iterable objects (like lists, tuples, etc.) element-wise into a single iterable.\n",
        "It pairs up elements from each input iterable based on their positions.'''\n",
        "#Example:\n",
        "\n",
        "names = [\"Alice\", \"Bob\", \"Charlie\"]\n",
        "ages = [25, 30, 28]\n",
        "\n",
        "zipped = zip(names, ages)\n",
        "\n",
        "zipped_list = list(zipped)\n",
        "\n",
        "print(zipped_list)\n"
      ],
      "metadata": {
        "colab": {
          "base_uri": "https://localhost:8080/"
        },
        "id": "-2FXDWLvCnic",
        "outputId": "9173361e-a342-47c7-a44b-e05a1a33f486"
      },
      "execution_count": null,
      "outputs": [
        {
          "output_type": "stream",
          "name": "stdout",
          "text": [
            "[('Alice', 25), ('Bob', 30), ('Charlie', 28)]\n"
          ]
        }
      ]
    },
    {
      "cell_type": "code",
      "source": [
        "''' Merge two Python dictionaries into one'''\n",
        "\n",
        "dict1 = {'Ten': 10, 'Twenty': 20, 'Thirty': 30}\n",
        "dict2 = {'Thirty': 30, 'Fourty': 40, 'Fifty': 50}\n",
        "\n",
        "dict1.update(dict2)\n",
        "print(dict1)"
      ],
      "metadata": {
        "colab": {
          "base_uri": "https://localhost:8080/"
        },
        "id": "piGqz_JDLCsO",
        "outputId": "9a4d1884-cc65-411b-f441-d07acb58060f"
      },
      "execution_count": null,
      "outputs": [
        {
          "output_type": "stream",
          "name": "stdout",
          "text": [
            "{'Ten': 10, 'Twenty': 20, 'Thirty': 30, 'Fourty': 40, 'Fifty': 50}\n"
          ]
        }
      ]
    },
    {
      "cell_type": "code",
      "source": [
        "'''Print the value of key ‘history’ from the below dict'''\n",
        "\n",
        "sampleDict = {\n",
        "    \"class\": {\n",
        "        \"student\": {\n",
        "            \"name\": \"Mike\",\n",
        "            \"marks\": {\n",
        "                \"physics\": 70,\n",
        "                \"history\": 80\n",
        "            }\n",
        "        }\n",
        "    }\n",
        "}\n",
        "\n",
        "sampleDict['class']['student']['marks']['history']"
      ],
      "metadata": {
        "colab": {
          "base_uri": "https://localhost:8080/"
        },
        "id": "TV32PpqZLCqB",
        "outputId": "ef8a7c9f-1a35-4534-d191-5d7f42fa3358"
      },
      "execution_count": null,
      "outputs": [
        {
          "output_type": "execute_result",
          "data": {
            "text/plain": [
              "80"
            ]
          },
          "metadata": {},
          "execution_count": 28
        }
      ]
    },
    {
      "cell_type": "code",
      "source": [
        "# F R O M K E Y S ()\n",
        "'''Initialize dictionary with default values'''\n",
        "#The fromkeys() method in Python is a method available for dictionaries. It creates a new dictionary with specified keys and a default value for those keys.\n",
        "\n",
        "employees = ['Kelly', 'Emma']\n",
        "defaults = {\"designation\": 'Developer', \"salary\": 8000}\n",
        "\n",
        "a = dict.fromkeys(employees, defaults)\n",
        "print(a)"
      ],
      "metadata": {
        "colab": {
          "base_uri": "https://localhost:8080/"
        },
        "id": "_Dz1vRAeLCn3",
        "outputId": "a32dc833-7e25-46c6-a015-f57a46f69a76"
      },
      "execution_count": null,
      "outputs": [
        {
          "output_type": "stream",
          "name": "stdout",
          "text": [
            "{'Kelly': {'designation': 'Developer', 'salary': 8000}, 'Emma': {'designation': 'Developer', 'salary': 8000}}\n"
          ]
        }
      ]
    },
    {
      "cell_type": "code",
      "source": [
        "a[\"Kelly\"]"
      ],
      "metadata": {
        "colab": {
          "base_uri": "https://localhost:8080/"
        },
        "id": "Sea-YICv--OX",
        "outputId": "25d9ee93-c435-404d-8172-659d9e9ca6a8"
      },
      "execution_count": null,
      "outputs": [
        {
          "output_type": "execute_result",
          "data": {
            "text/plain": [
              "{'designation': 'Developer', 'salary': 8000}"
            ]
          },
          "metadata": {},
          "execution_count": 41
        }
      ]
    },
    {
      "cell_type": "code",
      "source": [
        "a[\"Emma\"]"
      ],
      "metadata": {
        "colab": {
          "base_uri": "https://localhost:8080/"
        },
        "id": "zwBZpegp_C-C",
        "outputId": "054b8a20-8a1e-4b83-ad0e-0dd908ad4654"
      },
      "execution_count": null,
      "outputs": [
        {
          "output_type": "execute_result",
          "data": {
            "text/plain": [
              "{'designation': 'Developer', 'salary': 8000}"
            ]
          },
          "metadata": {},
          "execution_count": 42
        }
      ]
    },
    {
      "cell_type": "code",
      "source": [],
      "metadata": {
        "id": "Bgy7sQGx_DB7"
      },
      "execution_count": null,
      "outputs": []
    },
    {
      "cell_type": "code",
      "source": [],
      "metadata": {
        "id": "5BzsYDRT_DFh"
      },
      "execution_count": null,
      "outputs": []
    },
    {
      "cell_type": "code",
      "source": [],
      "metadata": {
        "id": "rJVwXh5e_DMR"
      },
      "execution_count": null,
      "outputs": []
    },
    {
      "cell_type": "code",
      "source": [],
      "metadata": {
        "id": "1WKomLQP_DRb"
      },
      "execution_count": null,
      "outputs": []
    },
    {
      "cell_type": "code",
      "source": [],
      "metadata": {
        "id": "zCtcvX2n_DV0"
      },
      "execution_count": null,
      "outputs": []
    }
  ]
}